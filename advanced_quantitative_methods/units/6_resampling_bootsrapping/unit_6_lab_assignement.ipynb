{
 "cells": [
  {
   "cell_type": "code",
   "execution_count": 9,
   "metadata": {},
   "outputs": [],
   "source": [
    "from copy import deepcopy\n",
    "\n",
    "import numpy as np\n",
    "\n",
    "import pandas as pd\n",
    "\n",
    "from scipy.stats import chi2_contingency\n",
    "\n",
    "import matplotlib.pyplot as plt\n",
    "import seaborn as sns "
   ]
  },
  {
   "cell_type": "code",
   "execution_count": 46,
   "metadata": {},
   "outputs": [],
   "source": [
    "def compute_ssqdev(statistics):\n",
    "    \"\"\"\n",
    "    Compute the sum of square deviations\n",
    "    \"\"\"\n",
    "    ssqdev = 0\n",
    "    for group, value in statistics.items():\n",
    "        \n",
    "        if group == 'grand_mean':\n",
    "            continue\n",
    "        else:\n",
    "            ssqdev += (value - statistics['grand_mean']) ** 2\n",
    "    \n",
    "    return ssqdev\n",
    "            \n",
    "def random_sign_resampling(differences, n_resample=10000, statistic=np.median):\n",
    "    \"\"\"\n",
    "    Apply sign resampling\n",
    "    \"\"\"\n",
    "\n",
    "    differences = np.array(differences)\n",
    "    sign_randomization = np.vectorize(\n",
    "        lambda x: -x  if np.random.random() <= 0.5 else x\n",
    "    )\n",
    "    resampled_statistic = []\n",
    "    for _ in range(n_resample):\n",
    "        \n",
    "        random_sample = sign_randomization(differences)\n",
    "        resampled_statistic.append(statistic(random_sample))\n",
    "    \n",
    "    return resampled_statistic \n",
    "\n",
    "def random_group_resampling(data, groups, n_resample=10000, statistic=compute_ssqdev):\n",
    "    \"\"\"\n",
    "    Apply group resampling\n",
    "    \"\"\"\n",
    "    data = np.array(data)\n",
    "    groups = np.array(groups)\n",
    "    resampled_statistic = []\n",
    "    for _ in range(n_resample):\n",
    "        \n",
    "        statistics = {}\n",
    "        statistics['grand_mean'] = np.mean(data)\n",
    "        random_groups = deepcopy(groups)\n",
    "        np.random.shuffle(random_groups)\n",
    "        for group in np.unique(random_groups):\n",
    "            \n",
    "            group_indices = np.argwhere(random_groups == group).flatten()\n",
    "            statistics[group] = np.mean(data[group_indices])\n",
    "        \n",
    "        resampled_statistic.append(statistic(statistics))\n",
    "    \n",
    "    return resampled_statistic \n",
    "\n",
    "def random_group_resampling_count(data, groups, n_resample=10000):\n",
    "    \"\"\"\n",
    "    Apply group resampling\n",
    "    \"\"\"\n",
    "    data = np.array(data)\n",
    "    groups = np.array(groups)\n",
    "    resampled_statistic = []\n",
    "    for _ in range(n_resample):\n",
    "        \n",
    "        random_groups = deepcopy(groups)\n",
    "        np.random.shuffle(random_groups)\n",
    "        contingency = pd.DataFrame()\n",
    "        contingency['groups'] = random_groups\n",
    "        contingency['data'] = data\n",
    "        contingency = pd.crosstab(contingency['groups'], contingency['data'])\n",
    "        c, p, dof, expected = chi2_contingency(contingency)\n",
    "        \n",
    "        resampled_statistic.append(c)\n",
    "    \n",
    "    return resampled_statistic \n",
    "\n",
    "def bootstrap_statistic(data, n_resample=10000, statistic=np.median):\n",
    "    \"\"\"\n",
    "    Apply bootstrap\n",
    "    \"\"\"\n",
    "    data = np.array(data)\n",
    "    resampled_statistic = []\n",
    "    for _ in range(n_resample):\n",
    "        \n",
    "        resampled_statistic.append(\n",
    "            statistic(np.random.choice(data, len(data)))\n",
    "        )\n",
    "    \n",
    "    return resampled_statistic\n",
    "\n",
    "def plot_resampled(resampled, observed):\n",
    "    \"\"\"\n",
    "    Plot resampled statistic and observed one\n",
    "    \"\"\"\n",
    "    plt.figure(figsize=(5, 5))\n",
    "    sns.histplot(resampled)\n",
    "    plt.axvline(observed, c='r')\n",
    "    plt.xlabel('Distribution Resampled')\n",
    "    plt.show()\n",
    "    return None\n",
    "\n",
    "def plot_bootstrapped(bootstrapped, observed):\n",
    "    \"\"\"\n",
    "    Plot bootstrapped statistic with CI and oberved one\n",
    "    \"\"\"\n",
    "    upper = np.percentile(bootstrapped, 92.5)\n",
    "    lower = np.percentile(bootstrapped, 2.5)\n",
    "    \n",
    "    plt.figure(figsize=(5, 5))\n",
    "    sns.histplot(bootstrapped)\n",
    "    plt.axvline(observed, c='r')\n",
    "    plt.axvline(lower, c='r', linestyle='--', alpha=0.5)\n",
    "    plt.axvline(upper, c='r', linestyle='--', alpha=0.5)\n",
    "    plt.xlabel('Distribution Bootstrapped')\n",
    "    plt.show()\n",
    "    return None"
   ]
  },
  {
   "cell_type": "markdown",
   "metadata": {},
   "source": [
    "# Class Examples"
   ]
  },
  {
   "cell_type": "markdown",
   "metadata": {},
   "source": [
    "### One-way within-subjects design\n",
    "\n",
    "These are data taken from Howell chapter 18, see the lecture slides for a full description the differences are endorphin levels in patients just before surgery (high stress) minus the endorphin levels 12 hours after surgery (low stress)."
   ]
  },
  {
   "cell_type": "code",
   "execution_count": 39,
   "metadata": {},
   "outputs": [],
   "source": [
    "diffs = [10, 7.5, 5.5, 6, 9.5, -2.5, 13, 3, -0.1, 0.2, 20.3, 4, 8, 25, 7.2, 35, -3.5, -1.9, 0.1]"
   ]
  },
  {
   "cell_type": "markdown",
   "metadata": {},
   "source": [
    "Is there a majority of diffs which fall one side or other of zero?  \n",
    "One way from removing any effect here is to randomly swap the sign of the difference."
   ]
  },
  {
   "cell_type": "code",
   "execution_count": 88,
   "metadata": {},
   "outputs": [
    {
     "data": {
      "image/png": "[encoded data removed]",
      "text/plain": [
       "<Figure size 360x360 with 1 Axes>"
      ]
     },
     "metadata": {
      "needs_background": "light"
     },
     "output_type": "display_data"
    }
   ],
   "source": [
    "resampled_median = random_sign_resampling(diffs)\n",
    "plot_resampled(resampled_median, np.median(diffs))"
   ]
  },
  {
   "cell_type": "markdown",
   "metadata": {},
   "source": [
    "### One-way between-subjects design"
   ]
  },
  {
   "cell_type": "code",
   "execution_count": 89,
   "metadata": {},
   "outputs": [],
   "source": [
    "data = np.array([18, 9, 15, 10, 16, 8, 7, 20, 13,  8, 12, \n",
    "        17, 13,  9,  8, 10, 13, 16, 17, 12, 11, 17, \n",
    "        15, 13, 13, 14, 15, 20, 15, 14, 9, 16, 12, \n",
    "        16, 12, 13, 12, 14, 11, 8, 13, 17, 15, 14])\n",
    "groups = np.array([1]*11 + [2]*11 + [3]*11 + [4]*11)"
   ]
  },
  {
   "cell_type": "markdown",
   "metadata": {},
   "source": [
    "One possibility here is to randomize without replacement the groups labels"
   ]
  },
  {
   "cell_type": "code",
   "execution_count": 90,
   "metadata": {
    "scrolled": false
   },
   "outputs": [
    {
     "data": {
      "image/png": "[encoded data removed]",
      "text/plain": [
       "<Figure size 360x360 with 1 Axes>"
      ]
     },
     "metadata": {
      "needs_background": "light"
     },
     "output_type": "display_data"
    }
   ],
   "source": [
    "resampled_ssqdev = random_group_resampling(\n",
    "    data=data, \n",
    "    groups=groups\n",
    ")\n",
    "observed_statistics = {\n",
    "    'grand_mean': np.mean(data)\n",
    "}\n",
    "for group in np.unique(groups):\n",
    "\n",
    "    group_indices = np.argwhere(groups == group).flatten()\n",
    "    observed_statistics[group] = np.mean(data[group_indices])\n",
    "\n",
    "observed_ssqdev = compute_ssqdev(observed_statistics)\n",
    "plot_resampled(resampled_ssqdev, observed_ssqdev)"
   ]
  },
  {
   "cell_type": "markdown",
   "metadata": {},
   "source": [
    "### Two groups with binary outcomes\n",
    "\n",
    "Column 1 is smoker 1 or not 2. Column 2 is parkinson's disease yes 1 or not 0."
   ]
  },
  {
   "cell_type": "code",
   "execution_count": 32,
   "metadata": {},
   "outputs": [],
   "source": [
    "data=np.array(\n",
    "    [\n",
    "        [1, 1],\n",
    "        [1, 1],\n",
    "        [1, 1],\n",
    "        [1, 0],\n",
    "        [1, 0],\n",
    "        [1, 0],\n",
    "        [1, 0],\n",
    "        [1, 0],\n",
    "        [1, 0],\n",
    "        [1, 0],\n",
    "        [1, 0],\n",
    "        [1, 0],\n",
    "        [1, 0],\n",
    "        [1, 0],\n",
    "        [2, 1],\n",
    "        [2, 1],\n",
    "        [2, 1],\n",
    "        [2, 1],\n",
    "        [2, 1],\n",
    "        [2, 1],\n",
    "        [2, 0],\n",
    "        [2, 0]\n",
    "    ]\n",
    ")"
   ]
  },
  {
   "cell_type": "code",
   "execution_count": 33,
   "metadata": {},
   "outputs": [
    {
     "data": {
      "image/png": "[encoded data removed]",
      "text/plain": [
       "<Figure size 360x360 with 1 Axes>"
      ]
     },
     "metadata": {
      "needs_background": "light"
     },
     "output_type": "display_data"
    }
   ],
   "source": [
    "contingency = pd.DataFrame(\n",
    "    data=data,\n",
    "    columns=['smoking', 'parkinson']\n",
    ")\n",
    "contingency = pd.crosstab(contingency['smoking'], contingency['parkinson'])\n",
    "observed_c, p, dof, expected = chi2_contingency(contingency)\n",
    "\n",
    "resampled_c = random_group_resampling_count(data[:, 0], data[:, 1], n_resample=1000)\n",
    "\n",
    "plot_resampled(resampled_c, observed_c)"
   ]
  },
  {
   "cell_type": "markdown",
   "metadata": {},
   "source": [
    "### Bootstrap"
   ]
  },
  {
   "cell_type": "code",
   "execution_count": 47,
   "metadata": {},
   "outputs": [
    {
     "data": {
      "image/png": "[encoded data removed]",
      "text/plain": [
       "<Figure size 360x360 with 1 Axes>"
      ]
     },
     "metadata": {
      "needs_background": "light"
     },
     "output_type": "display_data"
    }
   ],
   "source": [
    "boostrapped_median = bootstrap_statistic(diffs)\n",
    "plot_bootstrapped(boostrapped_median, np.median(diffs))"
   ]
  },
  {
   "cell_type": "markdown",
   "metadata": {},
   "source": [
    "# Lab Examples"
   ]
  },
  {
   "cell_type": "code",
   "execution_count": null,
   "metadata": {},
   "outputs": [],
   "source": []
  }
 ],
 "metadata": {
  "kernelspec": {
   "display_name": "Python 3",
   "language": "python",
   "name": "python3"
  },
  "language_info": {
   "codemirror_mode": {
    "name": "ipython",
    "version": 3
   },
   "file_extension": ".py",
   "mimetype": "text/x-python",
   "name": "python",
   "nbconvert_exporter": "python",
   "pygments_lexer": "ipython3",
   "version": "3.6.2"
  }
 },
 "nbformat": 4,
 "nbformat_minor": 4
}
