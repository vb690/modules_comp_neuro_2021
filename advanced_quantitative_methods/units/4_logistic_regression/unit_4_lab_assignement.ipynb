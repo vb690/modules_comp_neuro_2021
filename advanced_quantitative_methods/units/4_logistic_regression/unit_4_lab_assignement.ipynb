{
 "cells": [
  {
   "cell_type": "code",
   "execution_count": 71,
   "metadata": {},
   "outputs": [],
   "source": [
    "import numpy as np\n",
    "from scipy.stats import chi2\n",
    "\n",
    "import pandas as pd\n",
    "\n",
    "import statsmodels.api as sm\n",
    "import statsmodels.formula.api as smf\n",
    "\n",
    "from sklearn.linear_model import LogisticRegression as lgreg\n",
    "from sklearn.metrics import f1_score\n",
    "\n",
    "import matplotlib.pyplot as plt\n",
    "import seaborn as sns"
   ]
  },
  {
   "cell_type": "code",
   "execution_count": 22,
   "metadata": {},
   "outputs": [],
   "source": [
    "def ll_ratio_test(ll_constrained, ll_unconstrained):\n",
    "    \"\"\"\n",
    "    Compute the ll_ratio test \n",
    "    against the null\n",
    "    \"\"\"\n",
    "    ratio = 2*(ll_unconstrained - ll_constrained)\n",
    "    p = chi2.sf(ratio, df=1)\n",
    "    return p"
   ]
  },
  {
   "cell_type": "markdown",
   "metadata": {},
   "source": [
    "In the dataset, a large sample of adult participants from the general community completed a five factor model personality questionnaire, and three self-report measures related to mood disorders: The Mood Disorder Questionnaire (MDQ), the Hypomania Checklist (HCL), and the Quick Inventory of Depressive Symptomatology (QIDS). The latter three measures were scored such that individuals ended up with a positive screen (scored 1), or a negative screen (scored 0) for being considered 'at-risk' for developing a mood disorder. The researchers were interested in the extent to which the personality variables could predict risk for mood disorders in this dataset. "
   ]
  },
  {
   "cell_type": "code",
   "execution_count": 4,
   "metadata": {},
   "outputs": [
    {
     "name": "stdout",
     "output_type": "stream",
     "text": [
      "<class 'pandas.core.frame.DataFrame'>\n",
      "RangeIndex: 4464 entries, 0 to 4463\n",
      "Data columns (total 10 columns):\n",
      " #   Column                  Non-Null Count  Dtype  \n",
      "---  ------                  --------------  -----  \n",
      " 0   Age                     4464 non-null   int64  \n",
      " 1   Gender                  4464 non-null   int64  \n",
      " 2   OpenessTotal            4464 non-null   float64\n",
      " 3   ConscientiousnessTotal  4464 non-null   float64\n",
      " 4   ExtraversionTotal       4464 non-null   float64\n",
      " 5   AgreeablenessTotal      4464 non-null   float64\n",
      " 6   NeuroticismTotal        4464 non-null   float64\n",
      " 7   MDQ_screen              4464 non-null   int64  \n",
      " 8   QIDS_screen             4464 non-null   int64  \n",
      " 9   HCL_screen              4464 non-null   int64  \n",
      "dtypes: float64(5), int64(5)\n",
      "memory usage: 348.9 KB\n"
     ]
    }
   ],
   "source": [
    "df = pd.read_csv('data_lab.csv')\n",
    "df.info()"
   ]
  },
  {
   "cell_type": "code",
   "execution_count": 5,
   "metadata": {},
   "outputs": [],
   "source": [
    "questionnaires = [\n",
    "    'OpenessTotal', \n",
    "    'ConscientiousnessTotal', \n",
    "    'ExtraversionTotal', \n",
    "    'AgreeablenessTotal', \n",
    "    'NeuroticismTotal'\n",
    "]\n",
    "screening_variables = ['MDQ_screen', 'QIDS_screen', 'HCL_screen']"
   ]
  },
  {
   "cell_type": "markdown",
   "metadata": {},
   "source": [
    "Q1. Check that the three outcome variables have been labeled correctly 1 = positive screen, 0 = negative screen. In this research scenario, which category should we consider the target group and which should we consider the reference group?"
   ]
  },
  {
   "cell_type": "code",
   "execution_count": 6,
   "metadata": {},
   "outputs": [
    {
     "data": {
      "text/html": [
       "<div>\n",
       "<style scoped>\n",
       "    .dataframe tbody tr th:only-of-type {\n",
       "        vertical-align: middle;\n",
       "    }\n",
       "\n",
       "    .dataframe tbody tr th {\n",
       "        vertical-align: top;\n",
       "    }\n",
       "\n",
       "    .dataframe thead th {\n",
       "        text-align: right;\n",
       "    }\n",
       "</style>\n",
       "<table border=\"1\" class=\"dataframe\">\n",
       "  <thead>\n",
       "    <tr style=\"text-align: right;\">\n",
       "      <th></th>\n",
       "      <th>MDQ_screen</th>\n",
       "      <th>QIDS_screen</th>\n",
       "      <th>HCL_screen</th>\n",
       "    </tr>\n",
       "  </thead>\n",
       "  <tbody>\n",
       "    <tr>\n",
       "      <th>count</th>\n",
       "      <td>4464.000000</td>\n",
       "      <td>4464.000000</td>\n",
       "      <td>4464.000000</td>\n",
       "    </tr>\n",
       "    <tr>\n",
       "      <th>mean</th>\n",
       "      <td>0.163978</td>\n",
       "      <td>0.173611</td>\n",
       "      <td>0.152554</td>\n",
       "    </tr>\n",
       "    <tr>\n",
       "      <th>std</th>\n",
       "      <td>0.370298</td>\n",
       "      <td>0.378817</td>\n",
       "      <td>0.359597</td>\n",
       "    </tr>\n",
       "    <tr>\n",
       "      <th>min</th>\n",
       "      <td>0.000000</td>\n",
       "      <td>0.000000</td>\n",
       "      <td>0.000000</td>\n",
       "    </tr>\n",
       "    <tr>\n",
       "      <th>25%</th>\n",
       "      <td>0.000000</td>\n",
       "      <td>0.000000</td>\n",
       "      <td>0.000000</td>\n",
       "    </tr>\n",
       "    <tr>\n",
       "      <th>50%</th>\n",
       "      <td>0.000000</td>\n",
       "      <td>0.000000</td>\n",
       "      <td>0.000000</td>\n",
       "    </tr>\n",
       "    <tr>\n",
       "      <th>75%</th>\n",
       "      <td>0.000000</td>\n",
       "      <td>0.000000</td>\n",
       "      <td>0.000000</td>\n",
       "    </tr>\n",
       "    <tr>\n",
       "      <th>max</th>\n",
       "      <td>1.000000</td>\n",
       "      <td>1.000000</td>\n",
       "      <td>1.000000</td>\n",
       "    </tr>\n",
       "  </tbody>\n",
       "</table>\n",
       "</div>"
      ],
      "text/plain": [
       "        MDQ_screen  QIDS_screen   HCL_screen\n",
       "count  4464.000000  4464.000000  4464.000000\n",
       "mean      0.163978     0.173611     0.152554\n",
       "std       0.370298     0.378817     0.359597\n",
       "min       0.000000     0.000000     0.000000\n",
       "25%       0.000000     0.000000     0.000000\n",
       "50%       0.000000     0.000000     0.000000\n",
       "75%       0.000000     0.000000     0.000000\n",
       "max       1.000000     1.000000     1.000000"
      ]
     },
     "execution_count": 6,
     "metadata": {},
     "output_type": "execute_result"
    }
   ],
   "source": [
    "df[screening_variables].describe()"
   ]
  },
  {
   "cell_type": "markdown",
   "metadata": {},
   "source": [
    "Q2. What proportion of the sample have a positive screen for each of the three outcome variables?"
   ]
  },
  {
   "cell_type": "code",
   "execution_count": 7,
   "metadata": {},
   "outputs": [
    {
     "data": {
      "text/plain": [
       "MDQ_screen     0.163978\n",
       "QIDS_screen    0.173611\n",
       "HCL_screen     0.152554\n",
       "dtype: float64"
      ]
     },
     "execution_count": 7,
     "metadata": {},
     "output_type": "execute_result"
    }
   ],
   "source": [
    "df[screening_variables].sum() / len(df)"
   ]
  },
  {
   "cell_type": "markdown",
   "metadata": {},
   "source": [
    "Q3. Is receiving a positive or negative screen on the QIDS associated with gender? What proportion of men and women have a received a positive screen in relation to the total number of males and females, respectively?"
   ]
  },
  {
   "cell_type": "code",
   "execution_count": 8,
   "metadata": {},
   "outputs": [
    {
     "data": {
      "text/plain": [
       "Gender  QIDS_screen\n",
       "0       0              1963\n",
       "        1               295\n",
       "1       0              1726\n",
       "        1               480\n",
       "dtype: int64"
      ]
     },
     "execution_count": 8,
     "metadata": {},
     "output_type": "execute_result"
    }
   ],
   "source": [
    "df.groupby(['Gender', 'QIDS_screen']).size()"
   ]
  },
  {
   "cell_type": "code",
   "execution_count": 9,
   "metadata": {},
   "outputs": [
    {
     "data": {
      "text/plain": [
       "Gender\n",
       "0    0.130647\n",
       "1    0.217588\n",
       "Name: QIDS_screen, dtype: float64"
      ]
     },
     "execution_count": 9,
     "metadata": {},
     "output_type": "execute_result"
    }
   ],
   "source": [
    "df.groupby('Gender')['QIDS_screen'].sum() / df.groupby('Gender')['QIDS_screen'].count()"
   ]
  },
  {
   "cell_type": "markdown",
   "metadata": {},
   "source": [
    "Q4. What is the odds ratio for being a positive screen for females compared to males? "
   ]
  },
  {
   "cell_type": "code",
   "execution_count": 10,
   "metadata": {},
   "outputs": [
    {
     "data": {
      "text/plain": [
       "1.8127320648723524"
      ]
     },
     "execution_count": 10,
     "metadata": {},
     "output_type": "execute_result"
    }
   ],
   "source": [
    "(480 * 1963) / (295 * 1762)"
   ]
  },
  {
   "cell_type": "markdown",
   "metadata": {},
   "source": [
    "Q5. The research team initially wanted to examine which of the five personality traits significantly relate to the screening outcome on the QIDS. Run a binomial logistic model. First, check that the reference level is set correctly for the outcome variable in the menu (it should say 'negative'). Why does the overall model test have 5df? Does the model fit information in the output suggest this set of predictors provide a reasonable fit to the outcome variable? Provide the key parts of the output below. What is the deviance value for the null model?"
   ]
  },
  {
   "cell_type": "code",
   "execution_count": 96,
   "metadata": {},
   "outputs": [
    {
     "name": "stdout",
     "output_type": "stream",
     "text": [
      "Optimization terminated successfully.\n",
      "         Current function value: 0.369630\n",
      "         Iterations 7\n"
     ]
    },
    {
     "data": {
      "text/html": [
       "<table class=\"simpletable\">\n",
       "<caption>Logit Regression Results</caption>\n",
       "<tr>\n",
       "  <th>Dep. Variable:</th>           <td>y</td>        <th>  No. Observations:  </th>   <td>  4464</td>  \n",
       "</tr>\n",
       "<tr>\n",
       "  <th>Model:</th>                 <td>Logit</td>      <th>  Df Residuals:      </th>   <td>  4458</td>  \n",
       "</tr>\n",
       "<tr>\n",
       "  <th>Method:</th>                 <td>MLE</td>       <th>  Df Model:          </th>   <td>     5</td>  \n",
       "</tr>\n",
       "<tr>\n",
       "  <th>Date:</th>            <td>Mon, 01 Mar 2021</td> <th>  Pseudo R-squ.:     </th>   <td>0.1992</td>  \n",
       "</tr>\n",
       "<tr>\n",
       "  <th>Time:</th>                <td>20:42:54</td>     <th>  Log-Likelihood:    </th>  <td> -1650.0</td> \n",
       "</tr>\n",
       "<tr>\n",
       "  <th>converged:</th>             <td>True</td>       <th>  LL-Null:           </th>  <td> -2060.4</td> \n",
       "</tr>\n",
       "<tr>\n",
       "  <th>Covariance Type:</th>     <td>nonrobust</td>    <th>  LLR p-value:       </th> <td>3.649e-175</td>\n",
       "</tr>\n",
       "</table>\n",
       "<table class=\"simpletable\">\n",
       "<tr>\n",
       "    <td></td>       <th>coef</th>     <th>std err</th>      <th>z</th>      <th>P>|z|</th>  <th>[0.025</th>    <th>0.975]</th>  \n",
       "</tr>\n",
       "<tr>\n",
       "  <th>const</th> <td>   -3.3994</td> <td>    0.177</td> <td>  -19.227</td> <td> 0.000</td> <td>   -3.746</td> <td>   -3.053</td>\n",
       "</tr>\n",
       "<tr>\n",
       "  <th>x1</th>    <td>    0.3833</td> <td>    0.106</td> <td>    3.605</td> <td> 0.000</td> <td>    0.175</td> <td>    0.592</td>\n",
       "</tr>\n",
       "<tr>\n",
       "  <th>x2</th>    <td>   -0.6065</td> <td>    0.108</td> <td>   -5.633</td> <td> 0.000</td> <td>   -0.818</td> <td>   -0.395</td>\n",
       "</tr>\n",
       "<tr>\n",
       "  <th>x3</th>    <td>   -0.1713</td> <td>    0.080</td> <td>   -2.139</td> <td> 0.032</td> <td>   -0.328</td> <td>   -0.014</td>\n",
       "</tr>\n",
       "<tr>\n",
       "  <th>x4</th>    <td>   -0.1878</td> <td>    0.106</td> <td>   -1.771</td> <td> 0.077</td> <td>   -0.396</td> <td>    0.020</td>\n",
       "</tr>\n",
       "<tr>\n",
       "  <th>x5</th>    <td>    2.1156</td> <td>    0.097</td> <td>   21.907</td> <td> 0.000</td> <td>    1.926</td> <td>    2.305</td>\n",
       "</tr>\n",
       "</table>"
      ],
      "text/plain": [
       "<class 'statsmodels.iolib.summary.Summary'>\n",
       "\"\"\"\n",
       "                           Logit Regression Results                           \n",
       "==============================================================================\n",
       "Dep. Variable:                      y   No. Observations:                 4464\n",
       "Model:                          Logit   Df Residuals:                     4458\n",
       "Method:                           MLE   Df Model:                            5\n",
       "Date:                Mon, 01 Mar 2021   Pseudo R-squ.:                  0.1992\n",
       "Time:                        20:42:54   Log-Likelihood:                -1650.0\n",
       "converged:                       True   LL-Null:                       -2060.4\n",
       "Covariance Type:            nonrobust   LLR p-value:                3.649e-175\n",
       "==============================================================================\n",
       "                 coef    std err          z      P>|z|      [0.025      0.975]\n",
       "------------------------------------------------------------------------------\n",
       "const         -3.3994      0.177    -19.227      0.000      -3.746      -3.053\n",
       "x1             0.3833      0.106      3.605      0.000       0.175       0.592\n",
       "x2            -0.6065      0.108     -5.633      0.000      -0.818      -0.395\n",
       "x3            -0.1713      0.080     -2.139      0.032      -0.328      -0.014\n",
       "x4            -0.1878      0.106     -1.771      0.077      -0.396       0.020\n",
       "x5             2.1156      0.097     21.907      0.000       1.926       2.305\n",
       "==============================================================================\n",
       "\"\"\""
      ]
     },
     "execution_count": 96,
     "metadata": {},
     "output_type": "execute_result"
    }
   ],
   "source": [
    "endog = df['QIDS_screen'].values\n",
    "\n",
    "exog = df[questionnaires].values\n",
    "exog = (exog - exog.mean()) / exog.std()\n",
    "exog = sm.add_constant(exog)\n",
    "\n",
    "logit_mod = sm.Logit(endog, exog)\n",
    "residuals = logit_mod.fit()\n",
    "\n",
    "residuals.summary()"
   ]
  },
  {
   "cell_type": "markdown",
   "metadata": {},
   "source": [
    "Q6. What does the omnibus likelihood ratio tests table tell us? Why do the statistics have 1 df?"
   ]
  },
  {
   "cell_type": "code",
   "execution_count": 104,
   "metadata": {},
   "outputs": [
    {
     "name": "stdout",
     "output_type": "stream",
     "text": [
      "Optimization terminated successfully.\n",
      "         Current function value: 0.369630\n",
      "         Iterations 7\n",
      "Optimization terminated successfully.\n",
      "         Current function value: 0.371107\n",
      "         Iterations 7\n",
      "\n",
      "Coeff 1: 0.0\n",
      "\n",
      "Optimization terminated successfully.\n",
      "         Current function value: 0.373250\n",
      "         Iterations 7\n",
      "\n",
      "Coeff 2: 0.0\n",
      "\n",
      "Optimization terminated successfully.\n",
      "         Current function value: 0.370145\n",
      "         Iterations 7\n",
      "\n",
      "Coeff 3: 0.032\n",
      "\n",
      "Optimization terminated successfully.\n",
      "         Current function value: 0.369979\n",
      "         Iterations 7\n",
      "\n",
      "Coeff 4: 0.078\n",
      "\n",
      "Optimization terminated successfully.\n",
      "         Current function value: 0.442572\n",
      "         Iterations 6\n",
      "\n",
      "Coeff 5: 0.0\n",
      "\n"
     ]
    }
   ],
   "source": [
    "full_model = sm.Logit(endog, exog)\n",
    "full_residuals = full_model.fit()\n",
    "\n",
    "for coef in range(1, 6):\n",
    "    \n",
    "    constrained_mod = sm.Logit(endog, np.delete(exog, coef, 1))\n",
    "    constrained_residuals = constrained_mod.fit()\n",
    "    \n",
    "    p = ll_ratio_test(\n",
    "        constrained_residuals.llf,\n",
    "        full_residuals.llf,\n",
    "    )\n",
    "    print('')\n",
    "    print(f'Coeff {coef}: {round(p, 3)}')\n",
    "    print('')"
   ]
  },
  {
   "cell_type": "markdown",
   "metadata": {},
   "source": [
    "Q7: Examine the omnibus likelihood ratio tests for each predictor, and the information in the model coefficients table. What do they suggest in terms of which of the personality variables are best predictor/s of the screening outcome for the QIDS? What should we bear in mind when interpreting these coefficients in this specific dataset?"
   ]
  },
  {
   "cell_type": "markdown",
   "metadata": {},
   "source": [
    "Q8. On the basis of the above results, the researchers decided to run another model where they examined the effect of neuroticism on the outcome, but this time including age and gender as control variables (given the association gender has with the outcome, as shown earlier). Re-run the binomial LR model, with age, gender and neuroticism as predictors. Summarise the key results below. What conclusions would we reach?"
   ]
  },
  {
   "cell_type": "code",
   "execution_count": 106,
   "metadata": {},
   "outputs": [
    {
     "name": "stdout",
     "output_type": "stream",
     "text": [
      "Optimization terminated successfully.\n",
      "         Current function value: 0.369115\n",
      "         Iterations 7\n"
     ]
    },
    {
     "data": {
      "text/html": [
       "<table class=\"simpletable\">\n",
       "<caption>Logit Regression Results</caption>\n",
       "<tr>\n",
       "  <th>Dep. Variable:</th>           <td>y</td>        <th>  No. Observations:  </th>   <td>  4464</td>  \n",
       "</tr>\n",
       "<tr>\n",
       "  <th>Model:</th>                 <td>Logit</td>      <th>  Df Residuals:      </th>   <td>  4456</td>  \n",
       "</tr>\n",
       "<tr>\n",
       "  <th>Method:</th>                 <td>MLE</td>       <th>  Df Model:          </th>   <td>     7</td>  \n",
       "</tr>\n",
       "<tr>\n",
       "  <th>Date:</th>            <td>Mon, 01 Mar 2021</td> <th>  Pseudo R-squ.:     </th>   <td>0.2003</td>  \n",
       "</tr>\n",
       "<tr>\n",
       "  <th>Time:</th>                <td>20:52:28</td>     <th>  Log-Likelihood:    </th>  <td> -1647.7</td> \n",
       "</tr>\n",
       "<tr>\n",
       "  <th>converged:</th>             <td>True</td>       <th>  LL-Null:           </th>  <td> -2060.4</td> \n",
       "</tr>\n",
       "<tr>\n",
       "  <th>Covariance Type:</th>     <td>nonrobust</td>    <th>  LLR p-value:       </th> <td>6.108e-174</td>\n",
       "</tr>\n",
       "</table>\n",
       "<table class=\"simpletable\">\n",
       "<tr>\n",
       "    <td></td>       <th>coef</th>     <th>std err</th>      <th>z</th>      <th>P>|z|</th>  <th>[0.025</th>    <th>0.975]</th>  \n",
       "</tr>\n",
       "<tr>\n",
       "  <th>const</th> <td>   -3.6260</td> <td>    0.197</td> <td>  -18.401</td> <td> 0.000</td> <td>   -4.012</td> <td>   -3.240</td>\n",
       "</tr>\n",
       "<tr>\n",
       "  <th>x1</th>    <td>    0.3937</td> <td>    0.101</td> <td>    3.915</td> <td> 0.000</td> <td>    0.197</td> <td>    0.591</td>\n",
       "</tr>\n",
       "<tr>\n",
       "  <th>x2</th>    <td>   -0.5783</td> <td>    0.100</td> <td>   -5.756</td> <td> 0.000</td> <td>   -0.775</td> <td>   -0.381</td>\n",
       "</tr>\n",
       "<tr>\n",
       "  <th>x3</th>    <td>   -0.1864</td> <td>    0.076</td> <td>   -2.463</td> <td> 0.014</td> <td>   -0.335</td> <td>   -0.038</td>\n",
       "</tr>\n",
       "<tr>\n",
       "  <th>x4</th>    <td>   -0.2043</td> <td>    0.100</td> <td>   -2.052</td> <td> 0.040</td> <td>   -0.399</td> <td>   -0.009</td>\n",
       "</tr>\n",
       "<tr>\n",
       "  <th>x5</th>    <td>    1.9131</td> <td>    0.093</td> <td>   20.663</td> <td> 0.000</td> <td>    1.732</td> <td>    2.095</td>\n",
       "</tr>\n",
       "<tr>\n",
       "  <th>x6</th>    <td>   -0.0492</td> <td>    0.175</td> <td>   -0.281</td> <td> 0.779</td> <td>   -0.393</td> <td>    0.294</td>\n",
       "</tr>\n",
       "<tr>\n",
       "  <th>x7</th>    <td>    0.2050</td> <td>    0.096</td> <td>    2.132</td> <td> 0.033</td> <td>    0.017</td> <td>    0.393</td>\n",
       "</tr>\n",
       "</table>"
      ],
      "text/plain": [
       "<class 'statsmodels.iolib.summary.Summary'>\n",
       "\"\"\"\n",
       "                           Logit Regression Results                           \n",
       "==============================================================================\n",
       "Dep. Variable:                      y   No. Observations:                 4464\n",
       "Model:                          Logit   Df Residuals:                     4456\n",
       "Method:                           MLE   Df Model:                            7\n",
       "Date:                Mon, 01 Mar 2021   Pseudo R-squ.:                  0.2003\n",
       "Time:                        20:52:28   Log-Likelihood:                -1647.7\n",
       "converged:                       True   LL-Null:                       -2060.4\n",
       "Covariance Type:            nonrobust   LLR p-value:                6.108e-174\n",
       "==============================================================================\n",
       "                 coef    std err          z      P>|z|      [0.025      0.975]\n",
       "------------------------------------------------------------------------------\n",
       "const         -3.6260      0.197    -18.401      0.000      -4.012      -3.240\n",
       "x1             0.3937      0.101      3.915      0.000       0.197       0.591\n",
       "x2            -0.5783      0.100     -5.756      0.000      -0.775      -0.381\n",
       "x3            -0.1864      0.076     -2.463      0.014      -0.335      -0.038\n",
       "x4            -0.2043      0.100     -2.052      0.040      -0.399      -0.009\n",
       "x5             1.9131      0.093     20.663      0.000       1.732       2.095\n",
       "x6            -0.0492      0.175     -0.281      0.779      -0.393       0.294\n",
       "x7             0.2050      0.096      2.132      0.033       0.017       0.393\n",
       "==============================================================================\n",
       "\"\"\""
      ]
     },
     "execution_count": 106,
     "metadata": {},
     "output_type": "execute_result"
    }
   ],
   "source": [
    "endog = df['QIDS_screen'].values\n",
    "\n",
    "exog = df[questionnaires + ['Age']].values\n",
    "exog = (exog - exog.mean()) / exog.std()\n",
    "exog = np.append(exog, df['Gender'].values.reshape(-1, 1), axis=1)\n",
    "exog = sm.add_constant(exog)\n",
    "\n",
    "logit_mod = sm.Logit(endog, exog)\n",
    "residuals = logit_mod.fit()\n",
    "\n",
    "residuals.summary()"
   ]
  },
  {
   "cell_type": "markdown",
   "metadata": {},
   "source": [
    "Q8. Does neuroticism significantly enhance the model fit when it enters the LR model? To check this, you will need to use the model builder menu to add another block to the model, and re-organise the predictors to address this question. "
   ]
  },
  {
   "cell_type": "code",
   "execution_count": 107,
   "metadata": {},
   "outputs": [
    {
     "name": "stdout",
     "output_type": "stream",
     "text": [
      "Optimization terminated successfully.\n",
      "         Current function value: 0.369115\n",
      "         Iterations 7\n",
      "Optimization terminated successfully.\n",
      "         Current function value: 0.431744\n",
      "         Iterations 6\n"
     ]
    }
   ],
   "source": [
    "endog = df['QIDS_screen'].values\n",
    "\n",
    "exog = df[questionnaires + ['Age']].values\n",
    "exog = (exog - exog.mean()) / exog.std()\n",
    "exog = np.append(exog, df['Gender'].values.reshape(-1, 1), axis=1)\n",
    "exog = sm.add_constant(exog)\n",
    "\n",
    "full_model = sm.Logit(endog, exog)\n",
    "full_residuals = full_model.fit()\n",
    "\n",
    "constrained_model = sm.Logit(endog, np.delete(exog, 5, 1))\n",
    "constrained_residuals = constrained_model.fit()"
   ]
  },
  {
   "cell_type": "code",
   "execution_count": 108,
   "metadata": {},
   "outputs": [
    {
     "name": "stdout",
     "output_type": "stream",
     "text": [
      "Neuroticism: 1.2828962163015345e-123\n"
     ]
    }
   ],
   "source": [
    "p = ll_ratio_test(\n",
    "    constrained_residuals.llf,\n",
    "    full_residuals.llf\n",
    ")\n",
    "print(f'Neuroticism: {p}')"
   ]
  },
  {
   "cell_type": "markdown",
   "metadata": {},
   "source": [
    "Q9. Use the options in the prediction menu to examine how well this set of predictors classifies cases, relative to the observed data. "
   ]
  },
  {
   "cell_type": "code",
   "execution_count": 109,
   "metadata": {},
   "outputs": [
    {
     "name": "stdout",
     "output_type": "stream",
     "text": [
      "f1 score: 0.30725190839694655\n"
     ]
    }
   ],
   "source": [
    "predictions = lgreg().fit(exog, endog).predict_proba(exog)\n",
    "print(f'f1 score: {f1_score(predictions.argmax(1).reshape(-1, 1), endog)}')"
   ]
  },
  {
   "cell_type": "markdown",
   "metadata": {},
   "source": [
    "Q10: What happens when you change the cutoff value for the classifications to 0.2?"
   ]
  },
  {
   "cell_type": "code",
   "execution_count": 110,
   "metadata": {},
   "outputs": [
    {
     "data": {
      "image/png": "[encoded data removed]",
      "text/plain": [
       "<Figure size 360x360 with 1 Axes>"
      ]
     },
     "metadata": {
      "needs_background": "light"
     },
     "output_type": "display_data"
    }
   ],
   "source": [
    "plt.figure(figsize=(5, 5))\n",
    "for threshold in [0.1, 0.2, 0.3, 0.4, 0.5, 0.6, 0.7, 0.8, 0.9]:\n",
    "    \n",
    "    predictions_new = [1 if i[1] >= threshold else 0 for i in predictions]\n",
    "    score = f1_score(predictions_new, endog)\n",
    "    \n",
    "    plt.scatter(threshold, score, c='r')\n",
    "\n",
    "plt.xlabel('Threshold')\n",
    "plt.ylabel('F1 Score')\n",
    "plt.show()"
   ]
  },
  {
   "cell_type": "markdown",
   "metadata": {},
   "source": [
    "Q11: As a final analysis, the team wanted to see if gender moderated the effect of neuroticism on the QIDS screening outcome. Use the model builder to run this analysis in Jamovi. What would you conclude?"
   ]
  },
  {
   "cell_type": "code",
   "execution_count": 118,
   "metadata": {},
   "outputs": [
    {
     "name": "stdout",
     "output_type": "stream",
     "text": [
      "Optimization terminated successfully.\n",
      "         Current function value: 0.375731\n",
      "         Iterations 7\n",
      "Optimization terminated successfully.\n",
      "         Current function value: 0.375742\n",
      "         Iterations 7\n",
      "\n",
      "p: 0.761\n",
      "\n"
     ]
    }
   ],
   "source": [
    "full_model = sm.Logit(endog, exog[:, [0, 5, 7]])\n",
    "full_residuals = full_model.fit()\n",
    "    \n",
    "constrained_mod = sm.Logit(endog, exog[:, [0, 5]])\n",
    "constrained_residuals = constrained_mod.fit()"
   ]
  },
  {
   "cell_type": "code",
   "execution_count": 121,
   "metadata": {},
   "outputs": [
    {
     "data": {
      "text/html": [
       "<table class=\"simpletable\">\n",
       "<caption>Logit Regression Results</caption>\n",
       "<tr>\n",
       "  <th>Dep. Variable:</th>           <td>y</td>        <th>  No. Observations:  </th>   <td>  4464</td>  \n",
       "</tr>\n",
       "<tr>\n",
       "  <th>Model:</th>                 <td>Logit</td>      <th>  Df Residuals:      </th>   <td>  4462</td>  \n",
       "</tr>\n",
       "<tr>\n",
       "  <th>Method:</th>                 <td>MLE</td>       <th>  Df Model:          </th>   <td>     1</td>  \n",
       "</tr>\n",
       "<tr>\n",
       "  <th>Date:</th>            <td>Mon, 01 Mar 2021</td> <th>  Pseudo R-squ.:     </th>   <td>0.1859</td>  \n",
       "</tr>\n",
       "<tr>\n",
       "  <th>Time:</th>                <td>20:57:57</td>     <th>  Log-Likelihood:    </th>  <td> -1677.3</td> \n",
       "</tr>\n",
       "<tr>\n",
       "  <th>converged:</th>             <td>True</td>       <th>  LL-Null:           </th>  <td> -2060.4</td> \n",
       "</tr>\n",
       "<tr>\n",
       "  <th>Covariance Type:</th>     <td>nonrobust</td>    <th>  LLR p-value:       </th> <td>1.181e-168</td>\n",
       "</tr>\n",
       "</table>\n",
       "<table class=\"simpletable\">\n",
       "<tr>\n",
       "    <td></td>       <th>coef</th>     <th>std err</th>      <th>z</th>      <th>P>|z|</th>  <th>[0.025</th>    <th>0.975]</th>  \n",
       "</tr>\n",
       "<tr>\n",
       "  <th>const</th> <td>   -3.3867</td> <td>    0.105</td> <td>  -32.388</td> <td> 0.000</td> <td>   -3.592</td> <td>   -3.182</td>\n",
       "</tr>\n",
       "<tr>\n",
       "  <th>x1</th>    <td>    2.0131</td> <td>    0.087</td> <td>   23.240</td> <td> 0.000</td> <td>    1.843</td> <td>    2.183</td>\n",
       "</tr>\n",
       "</table>"
      ],
      "text/plain": [
       "<class 'statsmodels.iolib.summary.Summary'>\n",
       "\"\"\"\n",
       "                           Logit Regression Results                           \n",
       "==============================================================================\n",
       "Dep. Variable:                      y   No. Observations:                 4464\n",
       "Model:                          Logit   Df Residuals:                     4462\n",
       "Method:                           MLE   Df Model:                            1\n",
       "Date:                Mon, 01 Mar 2021   Pseudo R-squ.:                  0.1859\n",
       "Time:                        20:57:57   Log-Likelihood:                -1677.3\n",
       "converged:                       True   LL-Null:                       -2060.4\n",
       "Covariance Type:            nonrobust   LLR p-value:                1.181e-168\n",
       "==============================================================================\n",
       "                 coef    std err          z      P>|z|      [0.025      0.975]\n",
       "------------------------------------------------------------------------------\n",
       "const         -3.3867      0.105    -32.388      0.000      -3.592      -3.182\n",
       "x1             2.0131      0.087     23.240      0.000       1.843       2.183\n",
       "==============================================================================\n",
       "\"\"\""
      ]
     },
     "execution_count": 121,
     "metadata": {},
     "output_type": "execute_result"
    }
   ],
   "source": [
    "constrained_residuals.summary()"
   ]
  },
  {
   "cell_type": "code",
   "execution_count": 122,
   "metadata": {},
   "outputs": [
    {
     "data": {
      "text/html": [
       "<table class=\"simpletable\">\n",
       "<caption>Logit Regression Results</caption>\n",
       "<tr>\n",
       "  <th>Dep. Variable:</th>           <td>y</td>        <th>  No. Observations:  </th>   <td>  4464</td>  \n",
       "</tr>\n",
       "<tr>\n",
       "  <th>Model:</th>                 <td>Logit</td>      <th>  Df Residuals:      </th>   <td>  4461</td>  \n",
       "</tr>\n",
       "<tr>\n",
       "  <th>Method:</th>                 <td>MLE</td>       <th>  Df Model:          </th>   <td>     2</td>  \n",
       "</tr>\n",
       "<tr>\n",
       "  <th>Date:</th>            <td>Mon, 01 Mar 2021</td> <th>  Pseudo R-squ.:     </th>   <td>0.1860</td>  \n",
       "</tr>\n",
       "<tr>\n",
       "  <th>Time:</th>                <td>20:57:57</td>     <th>  Log-Likelihood:    </th>  <td> -1677.3</td> \n",
       "</tr>\n",
       "<tr>\n",
       "  <th>converged:</th>             <td>True</td>       <th>  LL-Null:           </th>  <td> -2060.4</td> \n",
       "</tr>\n",
       "<tr>\n",
       "  <th>Covariance Type:</th>     <td>nonrobust</td>    <th>  LLR p-value:       </th> <td>3.916e-167</td>\n",
       "</tr>\n",
       "</table>\n",
       "<table class=\"simpletable\">\n",
       "<tr>\n",
       "    <td></td>       <th>coef</th>     <th>std err</th>      <th>z</th>      <th>P>|z|</th>  <th>[0.025</th>    <th>0.975]</th>  \n",
       "</tr>\n",
       "<tr>\n",
       "  <th>const</th> <td>   -3.3962</td> <td>    0.109</td> <td>  -31.119</td> <td> 0.000</td> <td>   -3.610</td> <td>   -3.182</td>\n",
       "</tr>\n",
       "<tr>\n",
       "  <th>x1</th>    <td>    2.0069</td> <td>    0.089</td> <td>   22.565</td> <td> 0.000</td> <td>    1.833</td> <td>    2.181</td>\n",
       "</tr>\n",
       "<tr>\n",
       "  <th>x2</th>    <td>    0.0277</td> <td>    0.091</td> <td>    0.305</td> <td> 0.761</td> <td>   -0.150</td> <td>    0.206</td>\n",
       "</tr>\n",
       "</table>"
      ],
      "text/plain": [
       "<class 'statsmodels.iolib.summary.Summary'>\n",
       "\"\"\"\n",
       "                           Logit Regression Results                           \n",
       "==============================================================================\n",
       "Dep. Variable:                      y   No. Observations:                 4464\n",
       "Model:                          Logit   Df Residuals:                     4461\n",
       "Method:                           MLE   Df Model:                            2\n",
       "Date:                Mon, 01 Mar 2021   Pseudo R-squ.:                  0.1860\n",
       "Time:                        20:57:57   Log-Likelihood:                -1677.3\n",
       "converged:                       True   LL-Null:                       -2060.4\n",
       "Covariance Type:            nonrobust   LLR p-value:                3.916e-167\n",
       "==============================================================================\n",
       "                 coef    std err          z      P>|z|      [0.025      0.975]\n",
       "------------------------------------------------------------------------------\n",
       "const         -3.3962      0.109    -31.119      0.000      -3.610      -3.182\n",
       "x1             2.0069      0.089     22.565      0.000       1.833       2.181\n",
       "x2             0.0277      0.091      0.305      0.761      -0.150       0.206\n",
       "==============================================================================\n",
       "\"\"\""
      ]
     },
     "execution_count": 122,
     "metadata": {},
     "output_type": "execute_result"
    }
   ],
   "source": [
    "full_residuals.summary()"
   ]
  },
  {
   "cell_type": "code",
   "execution_count": 123,
   "metadata": {},
   "outputs": [
    {
     "name": "stdout",
     "output_type": "stream",
     "text": [
      "\n",
      "Mediation Neuroticism: 0.761\n",
      "\n"
     ]
    }
   ],
   "source": [
    "p = ll_ratio_test(\n",
    "    constrained_residuals.llf,\n",
    "    full_residuals.llf,\n",
    "    \n",
    ")\n",
    "print('')\n",
    "print(f'Mediation Neuroticism: {round(p, 3)}')\n",
    "print('')"
   ]
  }
 ],
 "metadata": {
  "kernelspec": {
   "display_name": "Python 3",
   "language": "python",
   "name": "python3"
  },
  "language_info": {
   "codemirror_mode": {
    "name": "ipython",
    "version": 3
   },
   "file_extension": ".py",
   "mimetype": "text/x-python",
   "name": "python",
   "nbconvert_exporter": "python",
   "pygments_lexer": "ipython3",
   "version": "3.7.10"
  }
 },
 "nbformat": 4,
 "nbformat_minor": 4
}
