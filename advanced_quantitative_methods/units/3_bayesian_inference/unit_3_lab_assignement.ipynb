{
 "cells": [
  {
   "cell_type": "markdown",
   "metadata": {},
   "source": [
    "## Unit 3 Laboratory Assignement"
   ]
  },
  {
   "cell_type": "code",
   "execution_count": 25,
   "metadata": {},
   "outputs": [],
   "source": [
    "import numpy as np\n",
    "\n",
    "import pymc3 as pm\n",
    "\n",
    "import matplotlib.pyplot as plt\n",
    "import seaborn as sns"
   ]
  },
  {
   "cell_type": "code",
   "execution_count": 14,
   "metadata": {},
   "outputs": [],
   "source": [
    "def compute_posterior(prior, likelyhood, comp_likelyhood):\n",
    "    \"\"\"\n",
    "    Compute posterior for imple binary case\n",
    "    \"\"\"\n",
    "    first_term = (likelyhood * prior)\n",
    "    second_term = (\n",
    "        (likelyhood * prior) + (comp_likelyhood * (1 - prior))\n",
    "    )\n",
    "    posterior = first_term / second_term\n",
    "    return posterior"
   ]
  },
  {
   "cell_type": "markdown",
   "metadata": {},
   "source": [
    "### Bayes Rule"
   ]
  },
  {
   "cell_type": "markdown",
   "metadata": {},
   "source": [
    "In the example from the slides about the genetic status of the woman, we obtained a posterior probability of P(woman is a carrier | two sons not affected) = P(θ = 1|y =0)  = 0.20.  Note, we can summarise the previous data y1=0, y2=0 by simply writing y=0 in the expressionabove."
   ]
  },
  {
   "cell_type": "markdown",
   "metadata": {},
   "source": [
    "### Question 1.1\n",
    "Consider now the following additional information:The woman has a third son who is also not affected by hemophilia. \n",
    "\n",
    "Using 0.20 as our updated prior on the status of the woman, i.e. now P(θ = 1) = 0.20, use Bayes' rule to estimate the new posterior probability on the woman status. Is the woman a carrier of hemophilia gene? P(θ = 1|y3 = 0)? With y3= 0 being the new evidence gathered from the third son"
   ]
  },
  {
   "cell_type": "code",
   "execution_count": 18,
   "metadata": {},
   "outputs": [
    {
     "name": "stdout",
     "output_type": "stream",
     "text": [
      "Posterior: 0.11111111111111112\n"
     ]
    }
   ],
   "source": [
    "posterior = compute_posterior(\n",
    "    prior=0.2, \n",
    "    likelyhood=0.5, \n",
    "    comp_likelyhood=1\n",
    ")\n",
    "print(f'Posterior: {posterior}')"
   ]
  },
  {
   "cell_type": "markdown",
   "metadata": {},
   "source": [
    "### Question 1.2\n",
    "\n",
    "Start from the beginning by estimating sequentially the posterior probability of the woman being a carrier of the affected X chromosome and using that posterior probability as prior (a in function Bayes(a,b,c). Use b as the probability that her first son is not affected, then that the second son is not affected and, finally, that the third son is not affected.Do you obtain the same result as in Question 1.1."
   ]
  },
  {
   "cell_type": "code",
   "execution_count": 20,
   "metadata": {},
   "outputs": [
    {
     "name": "stdout",
     "output_type": "stream",
     "text": [
      "Posterior after obseving child 0\n",
      "0.3333333333333333\n",
      "Posterior after obseving child 1\n",
      "0.19999999999999998\n",
      "Posterior after obseving child 2\n",
      "0.1111111111111111\n"
     ]
    }
   ],
   "source": [
    "prior = 0.5\n",
    "for child, likelyhood in enumerate([0.5]*3):\n",
    "    \n",
    "    posterior = compute_posterior(\n",
    "        prior=prior, \n",
    "        likelyhood=likelyhood, \n",
    "        comp_likelyhood=1\n",
    "    )\n",
    "    prior = posterior\n",
    "    print(f'Posterior after obseving child {child}')\n",
    "    print(posterior)"
   ]
  },
  {
   "cell_type": "markdown",
   "metadata": {},
   "source": [
    "### Question 1.3\n",
    "\n",
    "What is the posterior on the woman status if the third son is affected by hemophilia?  P(θ = 1|y3 = 1)?"
   ]
  },
  {
   "cell_type": "code",
   "execution_count": 22,
   "metadata": {},
   "outputs": [
    {
     "name": "stdout",
     "output_type": "stream",
     "text": [
      "Posterior: 0.2\n"
     ]
    }
   ],
   "source": [
    "posterior = compute_posterior(\n",
    "    prior=0.2, \n",
    "    likelyhood=0.5, \n",
    "    comp_likelyhood=0.5\n",
    ")\n",
    "print(f'Posterior: {posterior}')"
   ]
  },
  {
   "cell_type": "markdown",
   "metadata": {},
   "source": [
    "## Bayes Factor\n",
    "\n",
    "Compute Bayes factor using Bayes rule for discrete variables in the following example.  \n",
    "  \n",
    "To facilitate early detection of breast cancer, women are screened using mammography, even if they have no obvious symptoms.  \n",
    "Consider the following information:\n",
    "  \n",
    "Notation.  \n",
    "  \n",
    "θ  is the hidden parameter (status of a woman, cancer [θ =1] or no cancer [θ =0])  \n",
    "Y is the data (mammography test is positive [Y=1] or negative [Y=0]). \n",
    "  \n",
    "P(θ): The probability that one of these women has breast cancer is 1/100.  \n",
    "P(Y = 1 | θ  = 1): If a woman has breast cancer, the probability is 80/100 that she will have a positive test.   \n",
    "P(Y = 1 | θ  = 0): If a woman does not have breast cancer, the probability is 9.6/100 of a positive test.  "
   ]
  },
  {
   "cell_type": "markdown",
   "metadata": {},
   "source": [
    "### Question 2\n",
    "\n",
    "If a woman with no symptoms shows positive in mammography test, what is the probability that she actually has breast cancer? What is the posterior distribution p(θ  = 1|Y = 1) ? "
   ]
  },
  {
   "cell_type": "code",
   "execution_count": 31,
   "metadata": {},
   "outputs": [
    {
     "name": "stdout",
     "output_type": "stream",
     "text": [
      "Posterior: 0.07763975155279504\n"
     ]
    }
   ],
   "source": [
    "posterior = compute_posterior(\n",
    "    prior=0.01, \n",
    "    likelyhood=0.8, \n",
    "    comp_likelyhood=0.096\n",
    ")\n",
    "print(f'Posterior: {posterior}')"
   ]
  },
  {
   "cell_type": "code",
   "execution_count": null,
   "metadata": {},
   "outputs": [],
   "source": []
  }
 ],
 "metadata": {
  "kernelspec": {
   "display_name": "Python 3",
   "language": "python",
   "name": "python3"
  },
  "language_info": {
   "codemirror_mode": {
    "name": "ipython",
    "version": 3
   },
   "file_extension": ".py",
   "mimetype": "text/x-python",
   "name": "python",
   "nbconvert_exporter": "python",
   "pygments_lexer": "ipython3",
   "version": "3.6.2"
  }
 },
 "nbformat": 4,
 "nbformat_minor": 4
}
