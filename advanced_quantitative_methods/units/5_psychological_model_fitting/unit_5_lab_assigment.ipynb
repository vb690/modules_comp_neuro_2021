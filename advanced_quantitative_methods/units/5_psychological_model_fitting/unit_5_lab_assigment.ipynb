{
 "cells": [
  {
   "cell_type": "code",
   "execution_count": 1,
   "metadata": {},
   "outputs": [],
   "source": [
    "import numpy as np\n",
    "\n",
    "from scipy.stats import norm"
   ]
  },
  {
   "cell_type": "code",
   "execution_count": 26,
   "metadata": {},
   "outputs": [],
   "source": [
    "def to_zscore(p, two_tailed=False):\n",
    "    \"\"\"\n",
    "    Get the percept point function\n",
    "    of a N(0,1) and change it to a Z score\n",
    "    \"\"\"\n",
    "    perc = norm.ppf(p)\n",
    "    z = perc\n",
    "    if two_tailed:\n",
    "        z = z/2\n",
    "    return z\n",
    "\n",
    "def compute_d_c(hit_rate, false_allarm):\n",
    "    \"\"\"\n",
    "    Compute d' and criterion given hit_rate and\n",
    "    false allarm\n",
    "    \"\"\"\n",
    "    d_prime = to_zscore(hit_rate) - to_zscore(false_allarm)\n",
    "    c =  - (to_zscore(hit_rate) + to_zscore(false_allarm)) / 2 \n",
    "    return d_prime, c"
   ]
  },
  {
   "cell_type": "markdown",
   "metadata": {},
   "source": [
    "Q1. Convert p-values: 0, .1, .5, .975, and 1 to z scores"
   ]
  },
  {
   "cell_type": "code",
   "execution_count": 24,
   "metadata": {},
   "outputs": [
    {
     "name": "stdout",
     "output_type": "stream",
     "text": [
      "Z Score -inf\n",
      "Z Score -1.6448536269514729\n",
      "Z Score -1.2815515655446004\n",
      "Z Score 0.0\n",
      "Z Score 1.959963984540054\n",
      "Z Score inf\n"
     ]
    }
   ],
   "source": [
    "for p in [0, 0.05, .1, .5, .975, 1]:\n",
    "    \n",
    "    print(f'Z Score {to_zscore(p)}')"
   ]
  },
  {
   "cell_type": "markdown",
   "metadata": {},
   "source": [
    "Q2 Using the equations and MATLAB screenshots from the lecture, compute d-prime and c on the following data (hit rate = .8, false alarm rate = .3). What is the outcome and what do the values mean? Try computing d-prime and c using different values. When do you get no bias?"
   ]
  },
  {
   "cell_type": "code",
   "execution_count": 25,
   "metadata": {},
   "outputs": [
    {
     "name": "stdout",
     "output_type": "stream",
     "text": [
      "D': 1.3660217462809552 Criterion: -0.1586103604324367\n"
     ]
    }
   ],
   "source": [
    "d, c = compute_d_c(.8, .3)\n",
    "print(f\"D': {d} Criterion: {c}\")"
   ]
  },
  {
   "cell_type": "code",
   "execution_count": 29,
   "metadata": {},
   "outputs": [
    {
     "name": "stdout",
     "output_type": "stream",
     "text": [
      "Hit Rate 0.4444444444444444 False Allarm 0.5555555555555556\n",
      "D': -0.27942059776372424 Criterion: -0.0\n",
      "Hit Rate 0.5555555555555556 False Allarm 0.4444444444444444\n",
      "D': 0.27942059776372424 Criterion: -0.0\n"
     ]
    },
    {
     "name": "stderr",
     "output_type": "stream",
     "text": [
      "C:\\Users\\penthotal\\miniconda3\\envs\\workshop_env\\lib\\site-packages\\ipykernel_launcher.py:17: RuntimeWarning: invalid value encountered in double_scalars\n",
      "C:\\Users\\penthotal\\miniconda3\\envs\\workshop_env\\lib\\site-packages\\ipykernel_launcher.py:18: RuntimeWarning: invalid value encountered in double_scalars\n"
     ]
    }
   ],
   "source": [
    "for hit_rate in np.linspace(0, 1, 10):\n",
    "    \n",
    "    for false_allarm in np.linspace(0, 1, 10):\n",
    "        \n",
    "        d, c = compute_d_c(hit_rate, false_allarm)\n",
    "        if c == 0:\n",
    "            print(f'Hit Rate {hit_rate} False Allarm {false_allarm}')\n",
    "            print(f\"D': {d} Criterion: {c}\")"
   ]
  },
  {
   "cell_type": "markdown",
   "metadata": {},
   "source": [
    "Q3 Try to compute the hit rate and false alarm rate and then compute d-prime and c for the following dataset"
   ]
  },
  {
   "cell_type": "code",
   "execution_count": 45,
   "metadata": {},
   "outputs": [],
   "source": [
    "stimuli = np.array(([0]*50) + ([1]*50))\n",
    "responses = np.array(([0]*40) + ([1]*10) + ([0]*5) + ([1]*45))\n",
    "\n",
    "dataset = np.array([stimuli, responses]).T\n",
    "np.random.shuffle(dataset)"
   ]
  },
  {
   "cell_type": "code",
   "execution_count": 53,
   "metadata": {},
   "outputs": [
    {
     "name": "stdout",
     "output_type": "stream",
     "text": [
      "Hit Rate 0.85 False Allarm 0.1\n",
      "D': 2.31798495503839 Criterion: 0.12255908802540527\n"
     ]
    }
   ],
   "source": [
    "hit_rate = np.sum(dataset[:, 0] == dataset[:, 1]) / len(dataset)\n",
    "false_allarm = np.sum((dataset[:, 0] == 0) & (dataset[:, 1] == 1)) / len(dataset)\n",
    "\n",
    "d, c = compute_d_c(hit_rate, false_allarm)\n",
    "\n",
    "print(f'Hit Rate {hit_rate} False Allarm {false_allarm}')\n",
    "print(f\"D': {d} Criterion: {c}\")"
   ]
  },
  {
   "cell_type": "code",
   "execution_count": null,
   "metadata": {},
   "outputs": [],
   "source": []
  }
 ],
 "metadata": {
  "kernelspec": {
   "display_name": "Python 3",
   "language": "python",
   "name": "python3"
  },
  "language_info": {
   "codemirror_mode": {
    "name": "ipython",
    "version": 3
   },
   "file_extension": ".py",
   "mimetype": "text/x-python",
   "name": "python",
   "nbconvert_exporter": "python",
   "pygments_lexer": "ipython3",
   "version": "3.6.12"
  }
 },
 "nbformat": 4,
 "nbformat_minor": 4
}
